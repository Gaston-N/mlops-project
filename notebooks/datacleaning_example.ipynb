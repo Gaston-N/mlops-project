{
 "cells": [
  {
   "cell_type": "markdown",
   "metadata": {},
   "source": [
    "# Project teaser\n",
    "\n",
    "The following notebook is an excerpt and re-written example from a _real_ production model.\n",
    "\n",
    "The overall purpose of the ML algorithm is to identify users on the website that are new possible customers. This is done by collecting behaviour data from the users as input, and the target is whether they converted/turned into customers -- essentially a classification problem. \n",
    "\n",
    "This notebook only focuses on the data processing part. As you know, there are multiple steps in an ML pipeline, and it's not always they are neatly separated like this. For the exam project, they will not be, and that is part of the challenge for you. For production code, it should also not be Python notebooks since, as you may well see, it is difficult to work with and collaborate on them in an automated way.\n",
    "\n",
    "There is a lot of \"fluff\" in such a notebook. This ranges from comments and markdown cells to commented out code and random print statements. That is not necessary in a properly managed project where you can use git to check the version history and such. \n",
    "\n",
    "What is important for you is the identify the entry points into the code and segment them out into easily understandable chunks. Additionally, you might want to follow some basic code standards, such as:\n",
    "\n",
    "- Import only libraries in the beginning of the files\n",
    "- Define functions in the top of the scripts, or if used multiple places, move into a util.py script or such\n",
    "- Remove unused/commented out code\n",
    "- Follow the [PEP 8](https://peps.python.org/pep-0008/) style guide (and others)\n",
    "  \n",
    "Another thing to note is that comments can be misleading. Even if the markdown cell or inline comments says it does _X_, don't be surprised if it actually does _Y_. Sometimes additional text can be a blessing, but it can also be a curse sometimes. Remember, though, that your task is to make sure the code runs as before after refactoring the notebook into other files, not update/improve the model or flow to reflect what the comments might say.\n",
    "\n",
    "***"
   ]
  },
  {
   "cell_type": "markdown",
   "metadata": {},
   "source": [
    "# DATA PROCESSING\n",
    "\n",
    "In this section, we will perform Exploratory Data Analysis (EDA) to better understand the dataset before proceeding with more advanced analysis. EDA helps us get a sense of the data’s structure, identify patterns, and spot any potential issues like missing values or outliers. By doing so, we can gain a clearer understanding of the data's key characteristics.\n",
    "\n",
    "We will start with summary statistics to review basic measures like mean, median, and variance, providing an initial overview of the data distribution. Then, we’ll create visualizations such as histograms, box plots, and scatter plots to explore relationships between variables, check for any skewness, and highlight outliers.\n",
    "\n",
    "The purpose of this EDA is to ensure that the dataset is clean and well-structured for further analysis. This step also helps us identify any necessary data transformations and informs decisions on which features might be most relevant for modeling in later stages."
   ]
  },
  {
   "cell_type": "markdown",
   "metadata": {},
   "source": [
    "# Create artifact directory\n",
    "We want to create a directory for storing all the artifacts in the current directory. Users can load all the artifacts later for data cleaning pipelines and inferencing."
   ]
  },
  {
   "cell_type": "code",
   "execution_count": 1,
   "metadata": {},
   "outputs": [],
   "source": [
    "# dbutils.widgets.text(\"Training data max date\", \"2024-01-31\")\n",
    "# dbutils.widgets.text(\"Training data min date\", \"2024-01-01\")\n",
    "# max_date = dbutils.widgets.get(\"Training data max date\")\n",
    "# min_date = dbutils.widgets.get(\"Training data min date\")\n",
    "\n",
    "# testnng\n",
    "max_date = \"2024-01-31\"\n",
    "min_date = \"2024-01-01\""
   ]
  },
  {
   "cell_type": "code",
   "execution_count": null,
   "metadata": {},
   "outputs": [],
   "source": [
    "import os\n",
    "import shutil\n",
    "from pprint import pprint\n",
    "\n",
    "shutil.rmtree(\"./artifacts\",ignore_errors=True)\n",
    "os.makedirs(\"artifacts\",exist_ok=True)\n",
    "print(\"Created artifacts directory\")"
   ]
  },
  {
   "cell_type": "markdown",
   "metadata": {},
   "source": [
    "# Pandas dataframe print options"
   ]
  },
  {
   "cell_type": "code",
   "execution_count": 3,
   "metadata": {},
   "outputs": [],
   "source": [
    "import pandas as pd\n",
    "import warnings\n",
    "\n",
    "warnings.filterwarnings('ignore')\n",
    "pd.set_option('display.float_format',lambda x: \"%.3f\" % x)"
   ]
  },
  {
   "cell_type": "markdown",
   "metadata": {},
   "source": [
    "# Helper functions\n",
    "\n",
    "* **describe_numeric_col**: Calculates various descriptive stats for a numeric column in a dataframe.\n",
    "* **impute_missing_values**: Imputes the mean/median for numeric columns or the mode for other types."
   ]
  },
  {
   "cell_type": "code",
   "execution_count": 4,
   "metadata": {},
   "outputs": [],
   "source": [
    "def describe_numeric_col(x):\n",
    "    \"\"\"\n",
    "    Parameters:\n",
    "        x (pd.Series): Pandas col to describe.\n",
    "    Output:\n",
    "        y (pd.Series): Pandas series with descriptive stats. \n",
    "    \"\"\"\n",
    "    return pd.Series(\n",
    "        [x.count(), x.isnull().count(), x.mean(), x.min(), x.max()],\n",
    "        index=[\"Count\", \"Missing\", \"Mean\", \"Min\", \"Max\"]\n",
    "    )\n",
    "\n",
    "def impute_missing_values(x, method=\"mean\"):\n",
    "    \"\"\"\n",
    "    Parameters:\n",
    "        x (pd.Series): Pandas col to describe.\n",
    "        method (str): Values: \"mean\", \"median\"\n",
    "    \"\"\"\n",
    "    if (x.dtype == \"float64\") | (x.dtype == \"int64\"):\n",
    "        x = x.fillna(x.mean()) if method==\"mean\" else x.fillna(x.median())\n",
    "    else:\n",
    "        x = x.fillna(x.mode()[0])\n",
    "    return x"
   ]
  },
  {
   "cell_type": "markdown",
   "metadata": {},
   "source": [
    "# Read data\n",
    "\n",
    "We read the latest data from our data lake source. Here we load it locally after having pulled it from DVC."
   ]
  },
  {
   "cell_type": "code",
   "execution_count": null,
   "metadata": {},
   "outputs": [],
   "source": [
    "print(\"Loading training data\")\n",
    "\n",
    "# data_path = \"./data/raw\"\n",
    "# most_recent_date = [x.name[:-1] for x in dbutils.fs.ls(f\"{data_path}\")][-1]\n",
    "# most_recent_file = [x.name for x in dbutils.fs.ls(f\"{data_path}/{most_recent_date}\")][-1]\n",
    "# data = pd.read_csv(f\"{data_path}/{most_recent_date}/{most_recent_file}\")\n",
    "\n",
    "# Testing\n",
    "from data_generating_process import generate_data\n",
    "data = generate_data(n_rows=1_000)\n",
    "most_recent_date = \"2024-01-31\"\n",
    "# Done testing \n",
    "\n",
    "print(\"Most recent date:\", most_recent_date)\n",
    "print(\"Total rows:\", data.count())\n",
    "display(data)"
   ]
  },
  {
   "cell_type": "code",
   "execution_count": 6,
   "metadata": {},
   "outputs": [],
   "source": [
    "import pandas as pd\n",
    "import datetime\n",
    "import json\n",
    "\n",
    "if not max_date:\n",
    "    max_date = pd.to_datetime(datetime.datetime.now().date()).date()\n",
    "else:\n",
    "    max_date = pd.to_datetime(max_date).date()\n",
    "\n",
    "min_date = pd.to_datetime(min_date).date()\n",
    "\n",
    "# Time limit data\n",
    "data[\"date_part\"] = pd.to_datetime(data[\"date_part\"]).dt.date\n",
    "data = data[(data[\"date_part\"] >= min_date) & (data[\"date_part\"] <= max_date)]\n",
    "\n",
    "min_date = data[\"date_part\"].min()\n",
    "max_date = data[\"date_part\"].max()\n",
    "date_limits = {\"min_date\": str(min_date), \"max_date\": str(max_date)}\n",
    "with open(\"./artifacts/date_limits.json\", \"w\") as f:\n",
    "    json.dump(date_limits, f)"
   ]
  },
  {
   "cell_type": "markdown",
   "metadata": {},
   "source": [
    "# DATA CLEANING\n",
    "Data cleaning in MLOps refers to the process of preparing and refining raw data to ensure its quality and usability for machine learning models. This involves identifying and correcting errors, handling missing values, removing duplicates, and standardizing data formats. Effective data cleaning is crucial as it directly impacts model performance and the reliability of insights drawn from the data. In MLOps, it also includes automating these processes to maintain data integrity across different stages of the machine learning lifecycle."
   ]
  },
  {
   "cell_type": "markdown",
   "metadata": {},
   "source": [
    "# Feature selection\n",
    "\n",
    "Not all columns are relevant for modelling"
   ]
  },
  {
   "cell_type": "code",
   "execution_count": 7,
   "metadata": {},
   "outputs": [],
   "source": [
    "data = data.drop(\n",
    "    [\n",
    "        \"is_active\", \"marketing_consent\", \"first_booking\", \"existing_customer\", \"last_seen\"\n",
    "    ],\n",
    "    axis=1\n",
    ")"
   ]
  },
  {
   "cell_type": "code",
   "execution_count": 8,
   "metadata": {},
   "outputs": [],
   "source": [
    "#Removing columns that will be added back after the EDA\n",
    "data = data.drop(\n",
    "    [\"domain\", \"country\", \"visited_learn_more_before_booking\", \"visited_faq\"],\n",
    "    axis=1\n",
    ")"
   ]
  },
  {
   "cell_type": "markdown",
   "metadata": {},
   "source": [
    "# Data cleaning\n",
    "* Remove rows with empty target variable\n",
    "* Remove rows with other invalid column data"
   ]
  },
  {
   "cell_type": "code",
   "execution_count": null,
   "metadata": {},
   "outputs": [],
   "source": [
    "import numpy as np\n",
    "\n",
    "data[\"lead_indicator\"].replace(\"\", np.nan, inplace=True)\n",
    "data[\"lead_id\"].replace(\"\", np.nan, inplace=True)\n",
    "data[\"customer_code\"].replace(\"\", np.nan, inplace=True)\n",
    "\n",
    "data = data.dropna(axis=0, subset=[\"lead_indicator\"])\n",
    "data = data.dropna(axis=0, subset=[\"lead_id\"])\n",
    "\n",
    "data = data[data.source == \"signup\"]\n",
    "result=data.lead_indicator.value_counts(normalize = True)\n",
    "\n",
    "print(\"Target value counter\")\n",
    "for val, n in zip(result.index, result):\n",
    "    print(val, \": \", n)\n",
    "data"
   ]
  },
  {
   "cell_type": "markdown",
   "metadata": {},
   "source": [
    "# Create categorical data columns"
   ]
  },
  {
   "cell_type": "code",
   "execution_count": null,
   "metadata": {},
   "outputs": [],
   "source": [
    "vars = [\n",
    "    \"lead_id\", \"lead_indicator\", \"customer_group\", \"onboarding\", \"source\", \"customer_code\"\n",
    "]\n",
    "\n",
    "for col in vars:\n",
    "    data[col] = data[col].astype(\"object\")\n",
    "    print(f\"Changed {col} to object type\")"
   ]
  },
  {
   "cell_type": "markdown",
   "metadata": {},
   "source": [
    "# Separate categorical and continuous columns"
   ]
  },
  {
   "cell_type": "code",
   "execution_count": null,
   "metadata": {},
   "outputs": [],
   "source": [
    "cont_vars = data.loc[:, ((data.dtypes==\"float64\")|(data.dtypes==\"int64\"))]\n",
    "cat_vars = data.loc[:, (data.dtypes==\"object\")]\n",
    "\n",
    "print(\"\\nContinuous columns: \\n\")\n",
    "pprint(list(cont_vars.columns), indent=4)\n",
    "print(\"\\n Categorical columns: \\n\")\n",
    "pprint(list(cat_vars.columns), indent=4)"
   ]
  },
  {
   "cell_type": "markdown",
   "metadata": {},
   "source": [
    "# Outliers\n",
    "\n",
    "Outliers are data points that significantly differ from the majority of observations in a dataset and can distort statistical analysis or model performance. To identify and remove outliers, one common method is to use the Z-score, which measures how many standard deviations a data point is from the mean. Data points with a Z-score greater than 2 (or sometimes 3) standard deviations away from the mean are typically considered outliers. By applying this threshold, we can filter out values that fall outside the normal range of the data, ensuring that the remaining dataset is more representative and less influenced by extreme values."
   ]
  },
  {
   "cell_type": "code",
   "execution_count": null,
   "metadata": {},
   "outputs": [],
   "source": [
    "cont_vars = cont_vars.apply(lambda x: x.clip(lower = (x.mean()-2*x.std()),\n",
    "                                             upper = (x.mean()+2*x.std())))\n",
    "outlier_summary = cont_vars.apply(describe_numeric_col).T\n",
    "outlier_summary.to_csv('./artifacts/outlier_summary.csv')\n",
    "outlier_summary"
   ]
  },
  {
   "cell_type": "markdown",
   "metadata": {},
   "source": [
    "# Impute data\n",
    "\n",
    "In real-world datasets, missing data is a common occurrence due to various factors such as human error, incomplete data collection processes, or system failures. These gaps in the data can hinder analysis and lead to biased results if not properly addressed. Since many analytical and machine learning algorithms require complete data, handling missing values is an essential step in the data preprocessing phase.\n",
    "\n",
    "In the next code block, we will handle missing data by performing imputation. For numerical columns, we will replace missing values with the mean or median of the entire column, which provides a reasonable estimate based on the existing data. For categorical columns (object type), we will use the mode, or most frequent value, to fill in missing entries. This approach helps us maintain a complete dataset while ensuring that the imputed values align with the general distribution of each column."
   ]
  },
  {
   "cell_type": "code",
   "execution_count": null,
   "metadata": {},
   "outputs": [],
   "source": [
    "cat_missing_impute = cat_vars.mode(numeric_only=False, dropna=True)\n",
    "cat_missing_impute.to_csv(\"./artifacts/cat_missing_impute.csv\")\n",
    "cat_missing_impute"
   ]
  },
  {
   "cell_type": "code",
   "execution_count": null,
   "metadata": {},
   "outputs": [],
   "source": [
    "# Continuous variables missing values\n",
    "cont_vars = cont_vars.apply(impute_missing_values)\n",
    "cont_vars.apply(describe_numeric_col).T"
   ]
  },
  {
   "cell_type": "code",
   "execution_count": null,
   "metadata": {},
   "outputs": [],
   "source": [
    "cat_vars.loc[cat_vars['customer_code'].isna(),'customer_code'] = 'None'\n",
    "cat_vars = cat_vars.apply(impute_missing_values)\n",
    "cat_vars.apply(lambda x: pd.Series([x.count(), x.isnull().sum()], index = ['Count', 'Missing'])).T\n",
    "cat_vars"
   ]
  },
  {
   "cell_type": "markdown",
   "metadata": {},
   "source": [
    "# Data standardisation\n",
    "\n",
    "Standardization, or scaling, becomes necessary when continuous independent variables are measured on different scales, as this can lead to unequal contributions to the analysis. The objective is to rescale these variables so they have comparable ranges and/or variances, ensuring a more balanced influence in the model."
   ]
  },
  {
   "cell_type": "code",
   "execution_count": null,
   "metadata": {},
   "outputs": [],
   "source": [
    "from sklearn.preprocessing import MinMaxScaler\n",
    "import joblib\n",
    "\n",
    "scaler_path = \"./artifacts/scaler.pkl\"\n",
    "\n",
    "scaler = MinMaxScaler()\n",
    "scaler.fit(cont_vars)\n",
    "\n",
    "joblib.dump(value=scaler, filename=scaler_path)\n",
    "print(\"Saved scaler in artifacts\")\n",
    "\n",
    "cont_vars = pd.DataFrame(scaler.transform(cont_vars), columns=cont_vars.columns)\n",
    "cont_vars"
   ]
  },
  {
   "cell_type": "markdown",
   "metadata": {},
   "source": [
    "# Combine data"
   ]
  },
  {
   "cell_type": "code",
   "execution_count": null,
   "metadata": {},
   "outputs": [],
   "source": [
    "cont_vars = cont_vars.reset_index(drop=True)\n",
    "cat_vars = cat_vars.reset_index(drop=True)\n",
    "data = pd.concat([cat_vars, cont_vars], axis=1)\n",
    "print(f\"Data cleansed and combined.\\nRows: {len(data)}\")\n",
    "data"
   ]
  },
  {
   "cell_type": "markdown",
   "metadata": {},
   "source": [
    "# Data drift artifact"
   ]
  },
  {
   "cell_type": "code",
   "execution_count": null,
   "metadata": {},
   "outputs": [],
   "source": [
    "import json\n",
    "\n",
    "data_columns = list(data.columns)\n",
    "with open('./artifacts/columns_drift.json','w+') as f:           \n",
    "    json.dump(data_columns,f)\n",
    "    \n",
    "data.to_csv('./artifacts/training_data.csv', index=False)"
   ]
  },
  {
   "cell_type": "markdown",
   "metadata": {},
   "source": [
    "# Binning object columns"
   ]
  },
  {
   "cell_type": "code",
   "execution_count": null,
   "metadata": {},
   "outputs": [],
   "source": [
    "data.columns"
   ]
  },
  {
   "cell_type": "code",
   "execution_count": null,
   "metadata": {},
   "outputs": [],
   "source": [
    "data['bin_source'] = data['source']\n",
    "values_list = ['li', 'organic','signup','fb']\n",
    "data.loc[~data['source'].isin(values_list),'bin_source'] = 'Others'\n",
    "mapping = {'li' : 'socials', \n",
    "           'fb' : 'socials', \n",
    "           'organic': 'group1', \n",
    "           'signup': 'group1'\n",
    "           }\n",
    "\n",
    "data['bin_source'] = data['source'].map(mapping)"
   ]
  },
  {
   "cell_type": "markdown",
   "metadata": {},
   "source": [
    "# Save gold medallion dataset"
   ]
  },
  {
   "cell_type": "code",
   "execution_count": null,
   "metadata": {},
   "outputs": [],
   "source": [
    "#spark.sql(f\"drop table if exists train_gold\")\n"
   ]
  },
  {
   "cell_type": "code",
   "execution_count": null,
   "metadata": {},
   "outputs": [],
   "source": [
    "data_gold = spark.createDataFrame(data)\n",
    "data_gold.write.saveAsTable('train_gold')\n",
    "dbutils.notebook.exit(('training_golden_data',most_recent_date))\n",
    "\n",
    "data.to_csv('./artifacts/train_data_gold.csv', index=False)"
   ]
  },
  {
   "cell_type": "code",
   "execution_count": null,
   "metadata": {},
   "outputs": [],
   "source": []
  }
 ],
 "metadata": {
  "kernelspec": {
   "display_name": "Python 3",
   "language": "python",
   "name": "python3"
  },
  "language_info": {
   "codemirror_mode": {
    "name": "ipython",
    "version": 3
   },
   "file_extension": ".py",
   "mimetype": "text/x-python",
   "name": "python",
   "nbconvert_exporter": "python",
   "pygments_lexer": "ipython3",
   "version": "3.9.17"
  }
 },
 "nbformat": 4,
 "nbformat_minor": 2
}
